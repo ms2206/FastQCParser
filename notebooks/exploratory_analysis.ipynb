{
 "cells": [
  {
   "cell_type": "code",
   "execution_count": 66,
   "metadata": {
    "collapsed": true
   },
   "outputs": [],
   "source": [
    "import pandas as pd\n",
    "from pandas import DataFrame\n",
    "import sys"
   ]
  },
  {
   "cell_type": "code",
   "execution_count": 65,
   "outputs": [],
   "source": [
    "df = pd.read_csv('../data/raw/fastqc_data1.txt', names=['raw'])"
   ],
   "metadata": {
    "collapsed": false
   }
  },
  {
   "cell_type": "markdown",
   "source": [
    "Use str.contains to get access to the lines of interest"
   ],
   "metadata": {
    "collapsed": false
   }
  },
  {
   "cell_type": "code",
   "execution_count": 61,
   "outputs": [
    {
     "data": {
      "text/plain": "                                                 raw\n1                           >>Basic Statistics\\tpass\n2                                    #Measure\\tValue\n3  Filename\\t4_age21_S12_L001_R1_001_concat.fastq.gz\n4                 File type\\tConventional base calls\n5                    Encoding\\tSanger / Illumina 1.9\n6                          Total Sequences\\t37287903\n7               Sequences flagged as poor quality\\t0\n8                                Sequence length\\t75\n9                                            %GC\\t55",
      "text/html": "<div>\n<style scoped>\n    .dataframe tbody tr th:only-of-type {\n        vertical-align: middle;\n    }\n\n    .dataframe tbody tr th {\n        vertical-align: top;\n    }\n\n    .dataframe thead th {\n        text-align: right;\n    }\n</style>\n<table border=\"1\" class=\"dataframe\">\n  <thead>\n    <tr style=\"text-align: right;\">\n      <th></th>\n      <th>raw</th>\n    </tr>\n  </thead>\n  <tbody>\n    <tr>\n      <th>1</th>\n      <td>&gt;&gt;Basic Statistics\\tpass</td>\n    </tr>\n    <tr>\n      <th>2</th>\n      <td>#Measure\\tValue</td>\n    </tr>\n    <tr>\n      <th>3</th>\n      <td>Filename\\t4_age21_S12_L001_R1_001_concat.fastq.gz</td>\n    </tr>\n    <tr>\n      <th>4</th>\n      <td>File type\\tConventional base calls</td>\n    </tr>\n    <tr>\n      <th>5</th>\n      <td>Encoding\\tSanger / Illumina 1.9</td>\n    </tr>\n    <tr>\n      <th>6</th>\n      <td>Total Sequences\\t37287903</td>\n    </tr>\n    <tr>\n      <th>7</th>\n      <td>Sequences flagged as poor quality\\t0</td>\n    </tr>\n    <tr>\n      <th>8</th>\n      <td>Sequence length\\t75</td>\n    </tr>\n    <tr>\n      <th>9</th>\n      <td>%GC\\t55</td>\n    </tr>\n  </tbody>\n</table>\n</div>"
     },
     "execution_count": 61,
     "metadata": {},
     "output_type": "execute_result"
    }
   ],
   "source": [
    "index_start = df[df['raw'].str.contains('Basic Statistics')].index.tolist()\n",
    "index_ends = df[df['raw'].str.contains('END_MODULE')].index.tolist()\n",
    "\n",
    "# from Basic Statistics TO first END_MODULE\n",
    "df.iloc[index_start[0]:index_ends[0]]"
   ],
   "metadata": {
    "collapsed": false
   }
  },
  {
   "cell_type": "markdown",
   "source": [
    "If I had a mapper object that told me the structure of the FASTQ file, then I can use that to pull out the correct END_MODULE. I need a dict like structure with keys as title name and values as their order"
   ],
   "metadata": {
    "collapsed": false
   }
  },
  {
   "cell_type": "code",
   "execution_count": 75,
   "outputs": [],
   "source": [
    "fastq_order_map = dict([\n",
    "    ('Basic Statistics', 0),\n",
    "    ('Per base sequence quality', 1),\n",
    "    ('Per tile sequence quality', 2),\n",
    "    ('Per sequence quality scores', 3),\n",
    "    ('Per base sequence content', 4),\n",
    "    ('Per sequence GC content', 5),\n",
    "    ('Per base N content', 6),\n",
    "    ('Sequence Length Distribution', 7),\n",
    "    ('Sequence Duplication Levels', 8),\n",
    "    ('Overrepresented sequences', 9),\n",
    "    ('Adapter Content', 10),\n",
    "    ('Kmer Content\tfail', 11),\n",
    "\n",
    "])"
   ],
   "metadata": {
    "collapsed": false
   }
  },
  {
   "cell_type": "code",
   "execution_count": 62,
   "outputs": [
    {
     "data": {
      "text/plain": "pandas.core.frame.DataFrame"
     },
     "execution_count": 62,
     "metadata": {},
     "output_type": "execute_result"
    }
   ],
   "source": [
    "fastq_order_map\n",
    "type(df)"
   ],
   "metadata": {
    "collapsed": false
   }
  },
  {
   "cell_type": "code",
   "execution_count": 283,
   "outputs": [],
   "source": [
    "def extract_raw(filepath:str, search_string: str) -> DataFrame:\n",
    "    '''\n",
    "    Extracts a section of a CSV file based on a search string and returns it as a DataFrame.\n",
    "\n",
    "    This function reads a CSV file into a DataFrame, searches for a specified string within the 'raw' column,\n",
    "    and extracts rows from the first occurrence of the search string to the corresponding 'END_MODULE' marker.\n",
    "    The function uses a predefined mapping to determine the correct 'END_MODULE' for each search string.\n",
    "\n",
    "    Parameters:\n",
    "    filepath (str): The path to the CSV file to be read.\n",
    "    search_string (str): The string to search for within the 'raw' column of the DataFrame.\n",
    "\n",
    "    Returns:\n",
    "    DataFrame: A DataFrame containing the rows from the first occurrence of the search string to the corresponding 'END_MODULE'.\n",
    "\n",
    "    Raises:\n",
    "    FileNotFoundError: If the specified file does not exist, the function prints an error message and exits the program.\n",
    "\n",
    "    Example:\n",
    "    >>> extract_raw('path/to/your/file.csv', 'Basic Statistics')\n",
    "    '''\n",
    "\n",
    "    fastq_order_map = dict([\n",
    "    ('Basic Statistics', 0),\n",
    "    ('Per base sequence quality', 1),\n",
    "    ('Per tile sequence quality', 2),\n",
    "    ('Per sequence quality scores', 3),\n",
    "    ('Per base sequence content', 4),\n",
    "    ('Per sequence GC content', 5),\n",
    "    ('Per base N content', 6),\n",
    "    ('Sequence Length Distribution', 7),\n",
    "    ('Sequence Duplication Levels', 8),\n",
    "    ('Overrepresented sequences', 9),\n",
    "    ('Adapter Content', 10),\n",
    "    ('Kmer Content', 11),\n",
    "\n",
    "])\n",
    "\n",
    "    try:\n",
    "        df = pd.read_csv(filepath, names=['raw'])\n",
    "    except FileNotFoundError as e:\n",
    "        print(f'The file {filepath} could not be found: {e}')\n",
    "        sys.exit(1)\n",
    "\n",
    "    index_start = df[df['raw'].str.contains(search_string)].index.tolist()\n",
    "    index_ends = df[df['raw'].str.contains('END_MODULE')].index.tolist()\n",
    "\n",
    "    # from search_string TO first END_MODULE\n",
    "    return df.iloc[index_start[0]+1:index_ends[fastq_order_map[search_string]]]"
   ],
   "metadata": {
    "collapsed": false
   }
  },
  {
   "cell_type": "code",
   "execution_count": 268,
   "outputs": [
    {
     "data": {
      "text/plain": "                  raw\n8784   #Length\\tCount\n8785  75\\t3.7287903E7",
      "text/html": "<div>\n<style scoped>\n    .dataframe tbody tr th:only-of-type {\n        vertical-align: middle;\n    }\n\n    .dataframe tbody tr th {\n        vertical-align: top;\n    }\n\n    .dataframe thead th {\n        text-align: right;\n    }\n</style>\n<table border=\"1\" class=\"dataframe\">\n  <thead>\n    <tr style=\"text-align: right;\">\n      <th></th>\n      <th>raw</th>\n    </tr>\n  </thead>\n  <tbody>\n    <tr>\n      <th>8784</th>\n      <td>#Length\\tCount</td>\n    </tr>\n    <tr>\n      <th>8785</th>\n      <td>75\\t3.7287903E7</td>\n    </tr>\n  </tbody>\n</table>\n</div>"
     },
     "execution_count": 268,
     "metadata": {},
     "output_type": "execute_result"
    }
   ],
   "source": [
    "extract_raw('../data/raw/fastqc_data1.txt', 'Sequence Length Distribution')\n"
   ],
   "metadata": {
    "collapsed": false
   }
  },
  {
   "cell_type": "markdown",
   "source": [
    "Good its working, I need to tab separate the output"
   ],
   "metadata": {
    "collapsed": false
   }
  },
  {
   "cell_type": "code",
   "execution_count": 209,
   "outputs": [],
   "source": [
    "op = extract_raw('../data/raw/fastqc_data1.txt', 'Sequence Duplication Levels')\n",
    "\n",
    "# split = op['raw'].str.split('\\t')\n",
    "# header = split.head(1) # header\n",
    "# values = split[1:] # vales\n",
    "# op = pd.DataFrame(values)\n",
    "# op.columns"
   ],
   "metadata": {
    "collapsed": false
   }
  },
  {
   "cell_type": "code",
   "execution_count": 238,
   "outputs": [
    {
     "data": {
      "text/plain": "                                                  raw\n8790          1\\t67.90783572533351\\t16.30078473389498\n8791         2\\t15.113985471979557\\t7.256005761881316\n8792         3\\t5.9511408968300845\\t4.285584968692337\n8793        4\\t3.0257991756399845\\t2.9052848162972165\n8794        5\\t1.7810060638290006\\t2.1375881108671266\n8795         6\\t1.1719438383374363\\t1.687899844685502\n8796         7\\t0.794715444467579\\t1.3353598554009634\n8797        8\\t0.6092826471110954\\t1.1700311360623195\n8798        9\\t0.4788782119343553\\t1.0345612559736035\n8799        >10\\t2.744527094678331\\t12.23008174185119\n8800       >50\\t0.22606768563306923\\t3.76557958541675\n8801      >100\\t0.1636436290040782\\t7.629341777834772\n8802   >500\\t0.015018455462908557\\t2.4740827793651854\n8803     >1k\\t0.010320496799441697\\t5.084695654027676\n8804      >5k\\t0.00238818161467711\\t4.066128575301802\n8805  >10k+\\t0.0034469813453151137\\t26.63698940244748",
      "text/html": "<div>\n<style scoped>\n    .dataframe tbody tr th:only-of-type {\n        vertical-align: middle;\n    }\n\n    .dataframe tbody tr th {\n        vertical-align: top;\n    }\n\n    .dataframe thead th {\n        text-align: right;\n    }\n</style>\n<table border=\"1\" class=\"dataframe\">\n  <thead>\n    <tr style=\"text-align: right;\">\n      <th></th>\n      <th>raw</th>\n    </tr>\n  </thead>\n  <tbody>\n    <tr>\n      <th>8790</th>\n      <td>1\\t67.90783572533351\\t16.30078473389498</td>\n    </tr>\n    <tr>\n      <th>8791</th>\n      <td>2\\t15.113985471979557\\t7.256005761881316</td>\n    </tr>\n    <tr>\n      <th>8792</th>\n      <td>3\\t5.9511408968300845\\t4.285584968692337</td>\n    </tr>\n    <tr>\n      <th>8793</th>\n      <td>4\\t3.0257991756399845\\t2.9052848162972165</td>\n    </tr>\n    <tr>\n      <th>8794</th>\n      <td>5\\t1.7810060638290006\\t2.1375881108671266</td>\n    </tr>\n    <tr>\n      <th>8795</th>\n      <td>6\\t1.1719438383374363\\t1.687899844685502</td>\n    </tr>\n    <tr>\n      <th>8796</th>\n      <td>7\\t0.794715444467579\\t1.3353598554009634</td>\n    </tr>\n    <tr>\n      <th>8797</th>\n      <td>8\\t0.6092826471110954\\t1.1700311360623195</td>\n    </tr>\n    <tr>\n      <th>8798</th>\n      <td>9\\t0.4788782119343553\\t1.0345612559736035</td>\n    </tr>\n    <tr>\n      <th>8799</th>\n      <td>&gt;10\\t2.744527094678331\\t12.23008174185119</td>\n    </tr>\n    <tr>\n      <th>8800</th>\n      <td>&gt;50\\t0.22606768563306923\\t3.76557958541675</td>\n    </tr>\n    <tr>\n      <th>8801</th>\n      <td>&gt;100\\t0.1636436290040782\\t7.629341777834772</td>\n    </tr>\n    <tr>\n      <th>8802</th>\n      <td>&gt;500\\t0.015018455462908557\\t2.4740827793651854</td>\n    </tr>\n    <tr>\n      <th>8803</th>\n      <td>&gt;1k\\t0.010320496799441697\\t5.084695654027676</td>\n    </tr>\n    <tr>\n      <th>8804</th>\n      <td>&gt;5k\\t0.00238818161467711\\t4.066128575301802</td>\n    </tr>\n    <tr>\n      <th>8805</th>\n      <td>&gt;10k+\\t0.0034469813453151137\\t26.63698940244748</td>\n    </tr>\n  </tbody>\n</table>\n</div>"
     },
     "execution_count": 238,
     "metadata": {},
     "output_type": "execute_result"
    }
   ],
   "source": [
    "df_op = pd.DataFrame(op)\n",
    "\n",
    "op_values_raw = df_op[~df_op['raw'].str.startswith('#')]\n",
    "op_values_raw\n"
   ],
   "metadata": {
    "collapsed": false
   }
  },
  {
   "cell_type": "code",
   "execution_count": 245,
   "outputs": [
    {
     "data": {
      "text/plain": "8790            [1, 67.90783572533351, 16.30078473389498]\n8791           [2, 15.113985471979557, 7.256005761881316]\n8792           [3, 5.9511408968300845, 4.285584968692337]\n8793          [4, 3.0257991756399845, 2.9052848162972165]\n8794          [5, 1.7810060638290006, 2.1375881108671266]\n8795           [6, 1.1719438383374363, 1.687899844685502]\n8796           [7, 0.794715444467579, 1.3353598554009634]\n8797          [8, 0.6092826471110954, 1.1700311360623195]\n8798          [9, 0.4788782119343553, 1.0345612559736035]\n8799          [>10, 2.744527094678331, 12.23008174185119]\n8800         [>50, 0.22606768563306923, 3.76557958541675]\n8801        [>100, 0.1636436290040782, 7.629341777834772]\n8802     [>500, 0.015018455462908557, 2.4740827793651854]\n8803       [>1k, 0.010320496799441697, 5.084695654027676]\n8804        [>5k, 0.00238818161467711, 4.066128575301802]\n8805    [>10k+, 0.0034469813453151137, 26.63698940244748]\nName: raw, dtype: object"
     },
     "execution_count": 245,
     "metadata": {},
     "output_type": "execute_result"
    }
   ],
   "source": [
    "op_values_list = op_values_raw['raw'].apply(lambda x: x.split('\\t'))\n",
    "op_values_list"
   ],
   "metadata": {
    "collapsed": false
   }
  },
  {
   "cell_type": "code",
   "execution_count": 241,
   "outputs": [
    {
     "data": {
      "text/plain": "                                                    raw\n8788  #Total Deduplicated Percentage\\t24.00427661960...\n8789  #Duplication Level\\tPercentage of deduplicated...",
      "text/html": "<div>\n<style scoped>\n    .dataframe tbody tr th:only-of-type {\n        vertical-align: middle;\n    }\n\n    .dataframe tbody tr th {\n        vertical-align: top;\n    }\n\n    .dataframe thead th {\n        text-align: right;\n    }\n</style>\n<table border=\"1\" class=\"dataframe\">\n  <thead>\n    <tr style=\"text-align: right;\">\n      <th></th>\n      <th>raw</th>\n    </tr>\n  </thead>\n  <tbody>\n    <tr>\n      <th>8788</th>\n      <td>#Total Deduplicated Percentage\\t24.00427661960...</td>\n    </tr>\n    <tr>\n      <th>8789</th>\n      <td>#Duplication Level\\tPercentage of deduplicated...</td>\n    </tr>\n  </tbody>\n</table>\n</div>"
     },
     "execution_count": 241,
     "metadata": {},
     "output_type": "execute_result"
    }
   ],
   "source": [
    "op_headers_raw = df_op[df_op['raw'].str.startswith('#')]\n",
    "op_headers_raw"
   ],
   "metadata": {
    "collapsed": false
   }
  },
  {
   "cell_type": "code",
   "execution_count": 273,
   "outputs": [
    {
     "data": {
      "text/plain": "['#Total Deduplicated Percentage', '24.004276619603495']"
     },
     "execution_count": 273,
     "metadata": {},
     "output_type": "execute_result"
    }
   ],
   "source": [
    "op_headers_list = op_headers_raw['raw'].apply(lambda x: x.split('\\t'))\n",
    "op_headers_list.tolist()[0]"
   ],
   "metadata": {
    "collapsed": false
   }
  },
  {
   "cell_type": "code",
   "execution_count": 265,
   "outputs": [
    {
     "data": {
      "text/plain": "   #Duplication Level Percentage of deduplicated Percentage of total\n0                   1          67.90783572533351   16.30078473389498\n1                   2         15.113985471979557   7.256005761881316\n2                   3         5.9511408968300845   4.285584968692337\n3                   4         3.0257991756399845  2.9052848162972165\n4                   5         1.7810060638290006  2.1375881108671266\n5                   6         1.1719438383374363   1.687899844685502\n6                   7          0.794715444467579  1.3353598554009634\n7                   8         0.6092826471110954  1.1700311360623195\n8                   9         0.4788782119343553  1.0345612559736035\n9                 >10          2.744527094678331   12.23008174185119\n10                >50        0.22606768563306923    3.76557958541675\n11               >100         0.1636436290040782   7.629341777834772\n12               >500       0.015018455462908557  2.4740827793651854\n13                >1k       0.010320496799441697   5.084695654027676\n14                >5k        0.00238818161467711   4.066128575301802\n15              >10k+      0.0034469813453151137   26.63698940244748",
      "text/html": "<div>\n<style scoped>\n    .dataframe tbody tr th:only-of-type {\n        vertical-align: middle;\n    }\n\n    .dataframe tbody tr th {\n        vertical-align: top;\n    }\n\n    .dataframe thead th {\n        text-align: right;\n    }\n</style>\n<table border=\"1\" class=\"dataframe\">\n  <thead>\n    <tr style=\"text-align: right;\">\n      <th></th>\n      <th>#Duplication Level</th>\n      <th>Percentage of deduplicated</th>\n      <th>Percentage of total</th>\n    </tr>\n  </thead>\n  <tbody>\n    <tr>\n      <th>0</th>\n      <td>1</td>\n      <td>67.90783572533351</td>\n      <td>16.30078473389498</td>\n    </tr>\n    <tr>\n      <th>1</th>\n      <td>2</td>\n      <td>15.113985471979557</td>\n      <td>7.256005761881316</td>\n    </tr>\n    <tr>\n      <th>2</th>\n      <td>3</td>\n      <td>5.9511408968300845</td>\n      <td>4.285584968692337</td>\n    </tr>\n    <tr>\n      <th>3</th>\n      <td>4</td>\n      <td>3.0257991756399845</td>\n      <td>2.9052848162972165</td>\n    </tr>\n    <tr>\n      <th>4</th>\n      <td>5</td>\n      <td>1.7810060638290006</td>\n      <td>2.1375881108671266</td>\n    </tr>\n    <tr>\n      <th>5</th>\n      <td>6</td>\n      <td>1.1719438383374363</td>\n      <td>1.687899844685502</td>\n    </tr>\n    <tr>\n      <th>6</th>\n      <td>7</td>\n      <td>0.794715444467579</td>\n      <td>1.3353598554009634</td>\n    </tr>\n    <tr>\n      <th>7</th>\n      <td>8</td>\n      <td>0.6092826471110954</td>\n      <td>1.1700311360623195</td>\n    </tr>\n    <tr>\n      <th>8</th>\n      <td>9</td>\n      <td>0.4788782119343553</td>\n      <td>1.0345612559736035</td>\n    </tr>\n    <tr>\n      <th>9</th>\n      <td>&gt;10</td>\n      <td>2.744527094678331</td>\n      <td>12.23008174185119</td>\n    </tr>\n    <tr>\n      <th>10</th>\n      <td>&gt;50</td>\n      <td>0.22606768563306923</td>\n      <td>3.76557958541675</td>\n    </tr>\n    <tr>\n      <th>11</th>\n      <td>&gt;100</td>\n      <td>0.1636436290040782</td>\n      <td>7.629341777834772</td>\n    </tr>\n    <tr>\n      <th>12</th>\n      <td>&gt;500</td>\n      <td>0.015018455462908557</td>\n      <td>2.4740827793651854</td>\n    </tr>\n    <tr>\n      <th>13</th>\n      <td>&gt;1k</td>\n      <td>0.010320496799441697</td>\n      <td>5.084695654027676</td>\n    </tr>\n    <tr>\n      <th>14</th>\n      <td>&gt;5k</td>\n      <td>0.00238818161467711</td>\n      <td>4.066128575301802</td>\n    </tr>\n    <tr>\n      <th>15</th>\n      <td>&gt;10k+</td>\n      <td>0.0034469813453151137</td>\n      <td>26.63698940244748</td>\n    </tr>\n  </tbody>\n</table>\n</div>"
     },
     "execution_count": 265,
     "metadata": {},
     "output_type": "execute_result"
    }
   ],
   "source": [
    "pd.DataFrame(op_values_list.tolist(), columns=op_headers_list.tolist()[-1])"
   ],
   "metadata": {
    "collapsed": false
   }
  },
  {
   "cell_type": "markdown",
   "source": [
    "That was pretty ugly, but the general steps are\n",
    "1. extract header(s) by finding all rows with '#'. Some types have more than one row with '#'. Sequence Duplication Levels. Seems pretty unusual but I can handle it later.\n",
    "2. extract values as rows without '#'\n",
    "3. Split data on \\t\n",
    "4. convert to list\n",
    "5. convert to dataframe with values and data and headers as column names"
   ],
   "metadata": {
    "collapsed": false
   }
  },
  {
   "cell_type": "markdown",
   "source": [],
   "metadata": {
    "collapsed": false
   }
  },
  {
   "cell_type": "code",
   "execution_count": 292,
   "outputs": [],
   "source": [
    "def parse_raw(raw_data: DataFrame) -> DataFrame:\n",
    "    \"\"\"\n",
    "    Parses raw data from extract_raw().\n",
    "\n",
    "    This function processes a DataFrame containing raw data, where some lines start with '#'.\n",
    "    It extracts lines that do not start with '#', splits them on tab characters, and converts them into a list.\n",
    "    It extracts header lines that start with '#', splits them on tab characters, and uses the last header line as column names.\n",
    "    The function returns a formatted DataFrame with the extracted values and headers.\n",
    "\n",
    "    Parameters:\n",
    "    raw_data (DataFrame): The output from extract_raw()\n",
    "\n",
    "    Returns:\n",
    "    DataFrame: A formatted DataFrame with the extracted values and headers.\n",
    "\n",
    "    Example:\n",
    "    >>> raw_data = extract_raw('../data/raw/fastqc_data1.txt', 'Sequence Duplication Levels')\n",
    "    >>> formatted_df = parse_raw(raw_data)\n",
    "    >>> print(formatted_df)\n",
    "    \"\"\"\n",
    "\n",
    "    # make sure incoming object is DataFrame\n",
    "    df_raw = pd.DataFrame(raw_data)\n",
    "\n",
    "    # extract lines NOT '#'\n",
    "    values_raw = df_raw[~df_raw['raw'].str.startswith('#')]\n",
    "    # convert to list by splitting on '\\t'\n",
    "    values_list = values_raw['raw'].apply(lambda x: x.split('\\t'))\n",
    "    values_list = values_list.tolist()\n",
    "\n",
    "    # extract line '#\n",
    "    headers_raw = df_raw[df_raw['raw'].str.startswith('#')]\n",
    "    headers_list = headers_raw['raw'].apply(lambda x: x.split('\\t'))    # sometimes len > 1\n",
    "    if len(headers_list) > 1:\n",
    "        headers_list = headers_list.tolist()[-1]                        # headers\n",
    "        # misc_out = headers_list.tolist()[0]                             # misc\n",
    "    else:\n",
    "        headers_list = headers_list.tolist()\n",
    "\n",
    "    formatted_df = pd.DataFrame(values_list, columns=headers_list)\n",
    "\n",
    "    return formatted_df"
   ],
   "metadata": {
    "collapsed": false
   }
  },
  {
   "cell_type": "markdown",
   "source": [],
   "metadata": {
    "collapsed": false
   }
  },
  {
   "cell_type": "code",
   "execution_count": 298,
   "outputs": [
    {
     "ename": "IndexError",
     "evalue": "list index out of range",
     "output_type": "error",
     "traceback": [
      "\u001B[0;31m---------------------------------------------------------------------------\u001B[0m",
      "\u001B[0;31mIndexError\u001B[0m                                Traceback (most recent call last)",
      "Cell \u001B[0;32mIn[298], line 1\u001B[0m\n\u001B[0;32m----> 1\u001B[0m op_test \u001B[38;5;241m=\u001B[39m \u001B[43mextract_raw\u001B[49m\u001B[43m(\u001B[49m\u001B[38;5;124;43m'\u001B[39;49m\u001B[38;5;124;43m../data/raw/fastqc_data1.txt\u001B[39;49m\u001B[38;5;124;43m'\u001B[39;49m\u001B[43m,\u001B[49m\u001B[43m \u001B[49m\u001B[38;5;124;43m'\u001B[39;49m\u001B[38;5;124;43mAll the above\u001B[39;49m\u001B[38;5;124;43m'\u001B[39;49m\u001B[43m)\u001B[49m\n\u001B[1;32m      2\u001B[0m parse_raw(op_test)\n",
      "Cell \u001B[0;32mIn[283], line 49\u001B[0m, in \u001B[0;36mextract_raw\u001B[0;34m(filepath, search_string)\u001B[0m\n\u001B[1;32m     46\u001B[0m index_ends \u001B[38;5;241m=\u001B[39m df[df[\u001B[38;5;124m'\u001B[39m\u001B[38;5;124mraw\u001B[39m\u001B[38;5;124m'\u001B[39m]\u001B[38;5;241m.\u001B[39mstr\u001B[38;5;241m.\u001B[39mcontains(\u001B[38;5;124m'\u001B[39m\u001B[38;5;124mEND_MODULE\u001B[39m\u001B[38;5;124m'\u001B[39m)]\u001B[38;5;241m.\u001B[39mindex\u001B[38;5;241m.\u001B[39mtolist()\n\u001B[1;32m     48\u001B[0m \u001B[38;5;66;03m# from search_string TO first END_MODULE\u001B[39;00m\n\u001B[0;32m---> 49\u001B[0m \u001B[38;5;28;01mreturn\u001B[39;00m df\u001B[38;5;241m.\u001B[39miloc[\u001B[43mindex_start\u001B[49m\u001B[43m[\u001B[49m\u001B[38;5;241;43m0\u001B[39;49m\u001B[43m]\u001B[49m\u001B[38;5;241m+\u001B[39m\u001B[38;5;241m1\u001B[39m:index_ends[fastq_order_map[search_string]]]\n",
      "\u001B[0;31mIndexError\u001B[0m: list index out of range"
     ]
    }
   ],
   "source": [
    "op_test = extract_raw('../data/raw/fastqc_data1.txt', 'All the above')\n",
    "parse_raw(op_test)"
   ],
   "metadata": {
    "collapsed": false
   }
  },
  {
   "cell_type": "code",
   "execution_count": null,
   "outputs": [],
   "source": [],
   "metadata": {
    "collapsed": false
   }
  }
 ],
 "metadata": {
  "kernelspec": {
   "display_name": "Python 3",
   "language": "python",
   "name": "python3"
  },
  "language_info": {
   "codemirror_mode": {
    "name": "ipython",
    "version": 2
   },
   "file_extension": ".py",
   "mimetype": "text/x-python",
   "name": "python",
   "nbconvert_exporter": "python",
   "pygments_lexer": "ipython2",
   "version": "2.7.6"
  }
 },
 "nbformat": 4,
 "nbformat_minor": 0
}
